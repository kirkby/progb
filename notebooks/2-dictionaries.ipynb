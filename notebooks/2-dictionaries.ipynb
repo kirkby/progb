{
 "cells": [
  {
   "cell_type": "markdown",
   "metadata": {},
   "source": [
    "# Dictionaries\n",
    "Den mest interessante listetype er _dictionaries_. På dansk kunne man kalde den _ordbog_ eller _opslagsliste_.\n",
    "\n",
    "Et dictionary har en _key-value_ struktur. \n",
    "\n",
    "Key er _nøglen_ - det ord som man slår op.\n",
    "Value er _værdien_ - de data som der er knyttet til nøglen. \n",
    "\n"
   ]
  },
  {
   "cell_type": "code",
   "execution_count": 1,
   "metadata": {},
   "outputs": [],
   "source": [
    "lande = {'danmark': 'københavn', 'tyskland': 'berlin'}"
   ]
  },
  {
   "cell_type": "markdown",
   "metadata": {},
   "source": [
    "Man definerer altså et dictionary med `{}` - krølleparenteser eller tuborg-klammer. \n",
    "\n",
    "Derimod \"slår man op\" i ordbogen med kantede parenteser, som i dette eksempel:"
   ]
  },
  {
   "cell_type": "code",
   "execution_count": 2,
   "metadata": {},
   "outputs": [
    {
     "name": "stdout",
     "output_type": "stream",
     "text": [
      "københavn\n"
     ]
    }
   ],
   "source": [
    "land = lande['danmark']\n",
    "print(land) # københavn"
   ]
  },
  {
   "cell_type": "markdown",
   "metadata": {},
   "source": [
    "I dette eksempel er _nøglen_ danmark og _værdien_ københavn.\n",
    "\n",
    "Nøglen kan være enhver datatyope som ikke kan ændre sig (er immutable), dvs. nøglen kan ikke være en liste eller en dictionary (men sjovt nok er tubler tilladt). Generelt kan man sige at nøglen _ikke_ kan være en kompleks datatype."
   ]
  },
  {
   "cell_type": "code",
   "execution_count": 19,
   "metadata": {},
   "outputs": [],
   "source": [
    "# Valid dictionary keys\n",
    "my_dict = {\n",
    "    1: \"one\",\n",
    "    \"key\": \"value\",\n",
    "    (1, 2): \"tuple_key\",\n",
    "    True: \"boolean_key\",\n",
    "    None: \"none_key\"\n",
    "}"
   ]
  },
  {
   "cell_type": "markdown",
   "metadata": {},
   "source": [
    "Værdien, derimod,  - kan være **alle datatyper** - også en anden dictionary.\n",
    "Og det bliver først rigtig interessant når vi tilføjer flere data til hver nøgle. \n",
    "Hvis vi for eksempel indlejrer et dictionary i et dictionary:"
   ]
  },
  {
   "cell_type": "code",
   "execution_count": 12,
   "metadata": {},
   "outputs": [],
   "source": [
    "lande = {\n",
    "    \"danmark\": {\"hovedstad\": \"København\", \"indbyggere\": 5900000, \"størrelse\": 43094},\n",
    "    \"tyskland\": {\"hovedstad\": \"Berlin\", \"indbyggere\": 83000000, \"størrelse\": 357021},\n",
    "    \"sverige\": {\"hovedstad\": \"Stockholm\", \"indbyggere\": 10300000, \"størrelse\": 449964},\n",
    "}\n",
    "\n",
    "land = lande['danmark']\n",
    "hovedstad = lande['danmark']['hovedstad']"
   ]
  },
  {
   "cell_type": "markdown",
   "metadata": {},
   "source": [
    "## Øvelse\n",
    "\n",
    "Lad os gemme vores data i en fil som vi kalder `geodata.csv`. \n",
    "\n",
    "csv står for comma-separated values.\n",
    "\n",
    "Den har følgende struktur: \n",
    "```\n",
    "land,hovedstad,indbyggere,størrelse\n",
    "Danmark,København,5900000,43094\n",
    "Sverige,Stockholm,10300000,449964\n",
    "USA,Washington D.C.,331000000,9833517\n",
    "Tyskland,Berlin,83000000,357021\n",
    "```\n",
    "\n",
    "Vi opretter en funktion som indlæser denne fil ved hjælp af `csv`-biblioteket i python."
   ]
  },
  {
   "cell_type": "code",
   "execution_count": 2,
   "metadata": {},
   "outputs": [],
   "source": [
    "import csv\n",
    "\n",
    "def load_countries_from_csv(filename):\n",
    "    countries = {}\n",
    "    with open(filename, 'r') as csvfile:\n",
    "        reader = csv.DictReader(csvfile)\n",
    "        for row in reader:\n",
    "            countries[row['land']] = row\n",
    "    return countries\n",
    "\n",
    "# Indlæs data fra en CSV-fil\n",
    "lande = load_countries_from_csv(\"geodata.csv\")"
   ]
  },
  {
   "cell_type": "markdown",
   "metadata": {},
   "source": [
    "Opret din egen notebook som du kalder `dictionary.ipynb`. Opret din egen csv-fil med data om geodata (eller find på dine egne data). \n",
    "Kopier indlæsningsfunktionen ovenfor ind i en kodecelle og indlæs dine data. Test at det virker ved at udskrive data.\n",
    "\n",
    "\n",
    "### Øvelse 1\n",
    "Lav en funktion der udskriver en liste af lande og hovedstæder. \n"
   ]
  },
  {
   "cell_type": "code",
   "execution_count": null,
   "metadata": {},
   "outputs": [],
   "source": [
    "def print_capitals(lande):\n",
    "    for k, v in lande.items():\n",
    "        print (k, v[\"hovedstad\"])\n",
    "\n",
    "\n",
    "print_capitals(lande)"
   ]
  },
  {
   "cell_type": "markdown",
   "metadata": {},
   "source": [
    "### Øvelse 2\n",
    "Tilføj flere data til filen: valuta, sprog og verdensdel."
   ]
  },
  {
   "cell_type": "markdown",
   "metadata": {},
   "source": [
    "land,hovedstad,indbyggere,størrelse,valuta,sprog,verdensdel  \n",
    "Danmark,København,5900000,43094,DKK,dansk,europa  \n",
    "Sverige,Stockholm,10300000,449964,SEK,svensk,europa  \n",
    "USA,Washington D.C.,331000000,9833517,USD,engelsk,amerika  \n",
    "Tyskland,Berlin,83000000,357021,EUR,tysk,europa  \n",
    "Belgien,Bruxelles,1500000,50000,EUR,fransk/flamsk,europa  "
   ]
  },
  {
   "cell_type": "markdown",
   "metadata": {},
   "source": [
    "\n",
    "### Øvelse 3\n",
    "Lav en søgefunktion som giver brugeren mulighed for søge på et land og printer valuta.\n",
    "\n"
   ]
  },
  {
   "cell_type": "code",
   "execution_count": 35,
   "metadata": {},
   "outputs": [
    {
     "name": "stdout",
     "output_type": "stream",
     "text": [
      "Belgien har valutaen EUR\n"
     ]
    }
   ],
   "source": [
    "search = input('giv mig et land')\n",
    "if search in lande:\n",
    "    print(f\"{search} har valutaen {lande[search]['valuta']}\")"
   ]
  },
  {
   "cell_type": "markdown",
   "metadata": {},
   "source": [
    "### Øvelse 4\n",
    "Lav en funktion som udskriver alle lande der har EUR som valuta. \n"
   ]
  },
  {
   "cell_type": "code",
   "execution_count": 3,
   "metadata": {},
   "outputs": [
    {
     "data": {
      "text/plain": [
       "{'Danmark': {'land': 'Danmark',\n",
       "  'hovedstad': 'København',\n",
       "  'indbyggere': '5900000',\n",
       "  'størrelse': '43094',\n",
       "  'valuta': 'DKK'},\n",
       " 'Sverige': {'land': 'Sverige',\n",
       "  'hovedstad': 'Stockholm',\n",
       "  'indbyggere': '10300000',\n",
       "  'størrelse': '449964',\n",
       "  'valuta': 'SEK'},\n",
       " 'USA': {'land': 'USA',\n",
       "  'hovedstad': 'Washington D.C.',\n",
       "  'indbyggere': '331000000',\n",
       "  'størrelse': '9833517',\n",
       "  'valuta': 'USD'},\n",
       " 'Tyskland': {'land': 'Tyskland',\n",
       "  'hovedstad': 'Berlin',\n",
       "  'indbyggere': '83000000',\n",
       "  'størrelse': '357021',\n",
       "  'valuta': 'EUR'},\n",
       " 'Belgien': {'land': 'Belgien',\n",
       "  'hovedstad': 'Bruxelles',\n",
       "  'indbyggere': '1500000',\n",
       "  'størrelse': '50000',\n",
       "  'valuta': 'EUR'}}"
      ]
     },
     "execution_count": 3,
     "metadata": {},
     "output_type": "execute_result"
    }
   ],
   "source": [
    "lande"
   ]
  },
  {
   "cell_type": "markdown",
   "metadata": {},
   "source": [
    "### Øvelse 5\n",
    "Lav en funktion en søgefunktion som kan søge på alle data i vores datasæt.\n"
   ]
  },
  {
   "cell_type": "markdown",
   "metadata": {},
   "source": [
    "\n",
    "### Øvelse 6\n",
    "Gå tilbage til dit program med indkøbslisten. Tilføj mulighed for at angive antal - brug et dictionary til give hvert produkt flere egenskaber."
   ]
  },
  {
   "cell_type": "code",
   "execution_count": 16,
   "metadata": {},
   "outputs": [],
   "source": [
    "def print_eur_countries(lande, valuta):\n",
    "    print(f\"disse lande har {valuta}: \")\n",
    "    for key, value in lande.items():\n",
    "        if value['valuta'] == valuta:\n",
    "            print(f\"{key}\")\n",
    "            "
   ]
  },
  {
   "cell_type": "code",
   "execution_count": 17,
   "metadata": {},
   "outputs": [
    {
     "name": "stdout",
     "output_type": "stream",
     "text": [
      "disse lande har EUR: \n",
      "Tyskland\n",
      "Belgien\n"
     ]
    }
   ],
   "source": [
    "print_eur_countries(lande, 'EUR')"
   ]
  },
  {
   "cell_type": "code",
   "execution_count": 24,
   "metadata": {},
   "outputs": [],
   "source": [
    "def search_general(search):\n",
    "    print(f\"disse lande har {search}: \")\n",
    "    for key, value in lande.items():\n",
    "        for _, subvalue in value.items():\n",
    "            if subvalue == search:\n",
    "                print(f\"{key}\")\n",
    "            "
   ]
  },
  {
   "cell_type": "code",
   "execution_count": 25,
   "metadata": {},
   "outputs": [
    {
     "name": "stdout",
     "output_type": "stream",
     "text": [
      "disse lande har EUR: \n",
      "Tyskland\n",
      "Belgien\n"
     ]
    }
   ],
   "source": [
    "search_general('EUR')"
   ]
  },
  {
   "cell_type": "code",
   "execution_count": null,
   "metadata": {},
   "outputs": [],
   "source": []
  },
  {
   "cell_type": "markdown",
   "metadata": {},
   "source": []
  }
 ],
 "metadata": {
  "kernelspec": {
   "display_name": "Python 3",
   "language": "python",
   "name": "python3"
  },
  "language_info": {
   "codemirror_mode": {
    "name": "ipython",
    "version": 3
   },
   "file_extension": ".py",
   "mimetype": "text/x-python",
   "name": "python",
   "nbconvert_exporter": "python",
   "pygments_lexer": "ipython3",
   "version": "3.12.5"
  }
 },
 "nbformat": 4,
 "nbformat_minor": 2
}
