{
 "cells": [
  {
   "cell_type": "markdown",
   "metadata": {},
   "source": [
    "# Klasser i Python \n",
    "\n",
    "OOP - objekt-orienteret programmering - er et _programmeringsparadigme_ som er meget populært. Et paradigme betyder i denne sammenhæng en tankegang eller et system som grundlæggende bestemmer alle aspekter af den måde som man gør tingene på i en given sammenhæng.\n",
    "\n",
    "Mange sprog benytter er som udgangspunkt OOP-sprog, fx java eller c#.\n",
    "\n",
    "I OOP er de centrale begreber _klasser_, og _objekter_ og _instanser_.\n",
    "\n",
    "## Klasser\n",
    "En klasse er en kode-enhed som indeholder **metoder** (dvs. funktioner) og **egenskaber** (som også kaldes attributter eller properties).\n",
    "\n",
    "Disse attributter og metoder er \"indkapslet\" i den klasse som de tilhører. \n",
    "\n",
    "En klasse defineres med det reserverede ord `class`.\n",
    "\n",
    "En klasse er dermed faktisk en slags meget kompleks _datatype_ - dog med den tilføjelse af en klasse også kan definere metoder."
   ]
  },
  {
   "cell_type": "code",
   "execution_count": null,
   "metadata": {},
   "outputs": [],
   "source": [
    "class Animal:\n",
    "    # class attribute\n",
    "    species = \"mammal\""
   ]
  },
  {
   "cell_type": "markdown",
   "metadata": {},
   "source": [
    "### Objekter og instans\n",
    "Man kalder også en sådan klasse for et objekt. \n",
    "\n",
    "Man opretter en instans af et objekt når man sætter en variabels værdi til objektet."
   ]
  },
  {
   "cell_type": "code",
   "execution_count": null,
   "metadata": {},
   "outputs": [],
   "source": [
    "some_animal = Animal() # en instans af Animal\n",
    "some_other_animal = Animal() # endnu en instans af Animal"
   ]
  },
  {
   "cell_type": "markdown",
   "metadata": {},
   "source": [
    "### Dunder-metoder \n",
    "I python har alle klasser nogle specielle metoder som begynder med doppelt-underscore. Disse metoder kaldes `dunder`-metoder (double-underscore).\n",
    "\n",
    "De vigtigste eksempler på disse metoder `__init__`(constructor) og `__str__` (udskriver objekt som streng).\n",
    "\n",
    "Men lad os kigge på noget konkret kode som vil gøre det nemmere at forstå."
   ]
  },
  {
   "cell_type": "markdown",
   "metadata": {},
   "source": [
    "## Eksempel\n",
    "Lad os konstruere et klasse-hierarki med kæledyr som eksempel.\n",
    "\n",
    "Vi begynder med en superklasse, Pet, som repræsenterer alle de egenskaber som kæledyr har tilfælles.\n",
    "\n",
    "### Superklassen `Pet`\n",
    "\n",
    "\n",
    "### constructor\n",
    "Alle klasser kan have en constructor. \n",
    "\n",
    "Constructoren er som sagt en speciel metode, der kaldes, når en ny instans af en klasse oprettes. Dens primære formål er at initialisere instansens attributter, dvs. at give objektet de nødvendige startværdier. Dette gør det muligt at tilpasse objekter, når de oprettes.\n",
    "\n",
    "I vores tilfælde vælger vi at initialisere attributterne `name` og `age` i klassen `Pet`. \n",
    "\n",
    "Man bestemmer selv hvor mange attributter som man initialiserer i sin constructor. Man kan også vælge ikke at definere en constructor.\n",
    "Men hvis giver sin constructor-metode parametre, så skal man angive disse son argumenter når man opretter et nyt objekt.\n",
    "\n",
    "### \"self\"\n",
    "`self` refererer til den aktuelle instans af klassen og bruges til at få adgang til instansvariabler og metoder inden for klassen. Det gør det muligt for objekter at holde styr på deres egne data. For eksempel i `Pet`-klassen bruges `self.name` til at gemme navnet på et specifikt kæledyr.\n"
   ]
  },
  {
   "cell_type": "code",
   "execution_count": 10,
   "metadata": {},
   "outputs": [],
   "source": [
    "class Pet:\n",
    "    \"\"\"\n",
    "    En generel klasse til kæledyr.\n",
    "    \"\"\"\n",
    "    # Klasse-variabel (deles mellem alle instanser af klassen)\n",
    "    species = \"Kæledyr\"\n",
    "\n",
    "    def __init__(self, name, age):\n",
    "        \"\"\"\n",
    "        Constructor, der initialiserer navn og alder på kæledyret.\n",
    "        \"\"\"\n",
    "        self.name = name  # Instansvariabel\n",
    "        self.age = age    # Instansvariabel\n",
    "\n",
    "    def __str__(self):\n",
    "        \"\"\"\n",
    "        En generel repræsentation af kæledyret.\n",
    "        \"\"\"\n",
    "        return f\"{self.name} er {self.age} år gammel.\"\n",
    "\n",
    "    def speak(self):\n",
    "        \"\"\"\n",
    "        Standard lyd for et generelt kæledyr.\n",
    "        \"\"\"\n",
    "        return \"Kæledyret laver en lyd.\""
   ]
  },
  {
   "cell_type": "markdown",
   "metadata": {},
   "source": [
    "### Brug af subklasser og nedarvning\n",
    "Lad os definere nogle subklasser, `Dog` og `Cat`, som nedarver fra klassen `Pet`.\n",
    "Subklasser tillader os at genbruge kode fra superklassen og udvide den med nye funktioner eller attributter.\n",
    "\n",
    "Angivelsen `class Dog(Pet):`\" betyder, at klassen Dog nedarver fra klassen Pet, og derfor arver Dog alle attributter og metoder fra Pet.\n",
    "\n",
    "Man kan eksplicit kalde metoder i superklassen med `super()` som det ses i eksemplet her.\n",
    "Her kaldes constructoren i `Pet` for at initialisere `name` og `age`. Derefter sættes `breed` i klassen `Dog`.\n",
    "\n",
    "### Overrides af funktioner\n",
    "Metoden `speak` i subklasserne `Dog` og `Cat` viser, hvordan funktion-overrides fungerer. Når en metode i subklassen har samme navn som i superklassen, bruger Python subklassens version."
   ]
  },
  {
   "cell_type": "code",
   "execution_count": 11,
   "metadata": {},
   "outputs": [],
   "source": [
    "class Dog(Pet):\n",
    "    \"\"\"\n",
    "    En subklasse af Pet, der repræsenterer en hund.\n",
    "    \"\"\"\n",
    "    def __init__(self, name, age, breed):\n",
    "        \"\"\"\n",
    "        Udvider constructoren fra `Pet` med racen.\n",
    "        \"\"\"\n",
    "        super().__init__(name, age)  # Kald til superklassens constructor\n",
    "        self.breed = breed           # Ny attribut for hundens race\n",
    "\n",
    "    def speak(self):\n",
    "        \"\"\"\n",
    "        Overrider standard `speak` funktion for hunde.\n",
    "        \"\"\"\n",
    "        return \"Vuf!\"\n",
    "\n",
    "class Cat(Pet):\n",
    "    \"\"\"\n",
    "    En subklasse af Pet, der repræsenterer en kat.\n",
    "    \"\"\"\n",
    "    def __init__(self, name, age, color):\n",
    "        \"\"\"\n",
    "        Udvider constructoren fra `Pet` med farven.\n",
    "        \"\"\"\n",
    "        super().__init__(name, age)\n",
    "        self.color = color           # Ny attribut for kattens farve\n",
    "\n",
    "    def speak(self):\n",
    "        \"\"\"\n",
    "        Overrider standard `speak` funktion for katte.\n",
    "        \"\"\"\n",
    "        return \"Mijav!\""
   ]
  },
  {
   "cell_type": "markdown",
   "metadata": {},
   "source": [
    "### Afprøvning\n",
    "\n",
    "Lad os afprøve vores klasser."
   ]
  },
  {
   "cell_type": "code",
   "execution_count": null,
   "metadata": {},
   "outputs": [],
   "source": [
    "# Opret objekter af hver klasse\n",
    "buddy = Dog(\"Buddy\", 5, \"Golden Retriever\")\n",
    "whiskers = Cat(\"Whiskers\", 3, \"Sort\")\n",
    "generic_pet = Pet(\"Generic\", 2)\n",
    "\n",
    "# Udskriv deres beskrivelser og lyde\n",
    "print(buddy)  # Buddy er 5 år gammel.\n",
    "print(buddy.speak())  # Vuf!\n",
    "print(whiskers)  # Whiskers er 3 år gammel.\n",
    "print(whiskers.speak())  # Mijav!\n",
    "print(generic_pet)  # Generic er 2 år gammel.\n",
    "print(generic_pet.speak())  # Kæledyret laver en lyd."
   ]
  },
  {
   "cell_type": "markdown",
   "metadata": {},
   "source": [
    "### Getters og setters \n",
    "For at sætte properties på en klasse bruger man i mange programmeringssprog _getters_ og _setters_. En sætter er en metode som tillader brugeren af objektet (klassen) at sætte værdien udefra på kontrolleret vis. Tilsvarende er en henter (getter) en metode der henter værdier fra klassen til en ekstern bruger af objektet.\n",
    "\n",
    "I stedet for traditionelle \"getters\" og \"setters\" bruges _properties_ i Python.\n",
    "TODO MERE OM @property"
   ]
  }
 ],
 "metadata": {
  "kernelspec": {
   "display_name": "Python 3",
   "language": "python",
   "name": "python3"
  },
  "language_info": {
   "codemirror_mode": {
    "name": "ipython",
    "version": 3
   },
   "file_extension": ".py",
   "mimetype": "text/x-python",
   "name": "python",
   "nbconvert_exporter": "python",
   "pygments_lexer": "ipython3",
   "version": "3.13.1"
  }
 },
 "nbformat": 4,
 "nbformat_minor": 2
}
