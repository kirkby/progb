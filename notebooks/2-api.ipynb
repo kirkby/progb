{
 "cells": [
  {
   "cell_type": "markdown",
   "metadata": {},
   "source": [
    "## Introduktion til API'er\n",
    "\n",
    "En webside er en slags API som returnerer HTML. \n",
    "\n",
    "Check fx \"View Source\" på https://slotshaven.dk\n",
    "\n",
    "Men HTML er et formateringssprog - så hvis man kun er interesseret i _data_, er der ingen grund til at bruge et formateringssprog som HTML. \n",
    "\n",
    "\n",
    "API'er returnerer ofte json eller xml som er strukturerede dataformater.  \n",
    "\n",
    "Json minder en smule om et python dictionary."
   ]
  },
  {
   "cell_type": "markdown",
   "metadata": {},
   "source": [
    "``` json\n",
    "{\n",
    "    \"skole\": {\n",
    "        \"navn\": \"Slotshaven Gymnasium\",\n",
    "        \"by\": \"Holbæk\",\n",
    "        \"retninger\": [\n",
    "            {\n",
    "                \"navn\": \"HTX\",\n",
    "                \"beskrivelse\": \"Teknisk Gymnasium\",\n",
    "                \"profilfag\": [\"Teknologi\", \"Matematik\", \"Fysik\", \"Kemi\"]\n",
    "            },\n",
    "            {\n",
    "                \"navn\": \"HHX\",\n",
    "                \"beskrivelse\": \"Handelsgymnasium\",\n",
    "                \"profilfag\": [\"Afsætning\", \"Virksomhedsøkonomi\", \"International Økonomi\"]\n",
    "            }\n",
    "        ]\n",
    "    }\n",
    "}\n",
    "```"
   ]
  },
  {
   "cell_type": "markdown",
   "metadata": {},
   "source": [
    "En API er en slags grænseflade mellem et system og dets omverden. Et API _eksponerer_ operationer som kan opdatere det bagvedliggende system. \n",
    "\n",
    "Typiske operationer er Læs, Opret, Slet, Opdater. De er så almindelige så man på engelsk har givet dem navnet CRUD, for\n",
    " - create\n",
    " - read\n",
    " - update\n",
    " - delete"
   ]
  },
  {
   "cell_type": "markdown",
   "metadata": {},
   "source": [
    "Lad os prøve at lave en forspørgsel. \n",
    "\n",
    "Vi begynder med at importere et http-modul i python."
   ]
  },
  {
   "cell_type": "code",
   "execution_count": 1,
   "metadata": {},
   "outputs": [],
   "source": [
    "import requests"
   ]
  },
  {
   "cell_type": "markdown",
   "metadata": {},
   "source": [
    "Vi prøver fx dette offentlige API med data om alverdens lande, REST Countries.\n",
    "\n",
    "Så vi laver et request mod https://restcountries.com/"
   ]
  },
  {
   "cell_type": "code",
   "execution_count": 110,
   "metadata": {},
   "outputs": [
    {
     "name": "stdout",
     "output_type": "stream",
     "text": [
      "name {'common': 'Denmark', 'official': 'Kingdom of Denmark', 'nativeName': {'dan': {'official': 'Kongeriget Danmark', 'common': 'Danmark'}}}\n",
      "tld ['.dk']\n",
      "cca2 DK\n",
      "ccn3 208\n",
      "cca3 DNK\n",
      "cioc DEN\n",
      "independent True\n",
      "status officially-assigned\n",
      "unMember True\n",
      "currencies {'DKK': {'name': 'Danish krone', 'symbol': 'kr'}}\n",
      "idd {'root': '+4', 'suffixes': ['5']}\n",
      "capital ['Copenhagen']\n",
      "altSpellings ['DK', 'Danmark', 'Kingdom of Denmark', 'Kongeriget Danmark']\n",
      "region Europe\n",
      "subregion Northern Europe\n",
      "languages {'dan': 'Danish'}\n",
      "translations {'ara': {'official': 'مملكة الدنمارك', 'common': 'الدنمارك'}, 'bre': {'official': 'Rouantelezh Danmark', 'common': 'Danmark'}, 'ces': {'official': 'Dánské království', 'common': 'Dánsko'}, 'cym': {'official': 'Teyrnas Denmarc', 'common': 'Denmarc'}, 'deu': {'official': 'Königreich Dänemark', 'common': 'Dänemark'}, 'est': {'official': 'Taani Kuningriik', 'common': 'Taani'}, 'fin': {'official': 'Tanskan kuningaskunta', 'common': 'Tanska'}, 'fra': {'official': 'Royaume du Danemark', 'common': 'Danemark'}, 'hrv': {'official': 'Kraljevina Danska', 'common': 'Danska'}, 'hun': {'official': 'Dán Királyság', 'common': 'Dánia'}, 'ita': {'official': 'Regno di Danimarca', 'common': 'Danimarca'}, 'jpn': {'official': 'デンマーク王国', 'common': 'デンマーク'}, 'kor': {'official': '덴마크 왕국', 'common': '덴마크'}, 'nld': {'official': 'Koninkrijk Denemarken', 'common': 'Denemarken'}, 'per': {'official': 'پادشاهی دانمارک', 'common': 'دانمارک'}, 'pol': {'official': 'Królestwo Danii', 'common': 'Dania'}, 'por': {'official': 'Reino da Dinamarca', 'common': 'Dinamarca'}, 'rus': {'official': 'Королевство Дания', 'common': 'Дания'}, 'slk': {'official': 'Dánske kráľovstvo', 'common': 'Dánsko'}, 'spa': {'official': 'Reino de Dinamarca', 'common': 'Dinamarca'}, 'srp': {'official': 'Краљевина Данска', 'common': 'Данска'}, 'swe': {'official': 'Konungariket Danmark', 'common': 'Danmark'}, 'tur': {'official': 'Danimarka Krallığı', 'common': 'Danimarka'}, 'urd': {'official': 'مملکتِ ڈنمارک', 'common': 'ڈنمارک'}, 'zho': {'official': '丹麦王国', 'common': '丹麦'}}\n",
      "latlng [56.0, 10.0]\n",
      "landlocked False\n",
      "borders ['DEU']\n",
      "area 43094.0\n",
      "demonyms {'eng': {'f': 'Danish', 'm': 'Danish'}, 'fra': {'f': 'Danoise', 'm': 'Danois'}}\n",
      "flag 🇩🇰\n",
      "maps {'googleMaps': 'https://goo.gl/maps/UddGPN7hAyrtpFiT6', 'openStreetMaps': 'https://www.openstreetmap.org/relation/50046'}\n",
      "population 5831404\n",
      "gini {'2018': 28.2}\n",
      "fifa DEN\n",
      "car {'signs': ['DK'], 'side': 'right'}\n",
      "timezones ['UTC-04:00', 'UTC-03:00', 'UTC-01:00', 'UTC', 'UTC+01:00']\n",
      "continents ['Europe']\n",
      "flags {'png': 'https://flagcdn.com/w320/dk.png', 'svg': 'https://flagcdn.com/dk.svg', 'alt': 'The flag of Denmark has a red field with a large white cross that extend to the edges of the field. The vertical part of this cross is offset towards the hoist side.'}\n",
      "coatOfArms {'png': 'https://mainfacts.com/media/images/coats_of_arms/dk.png', 'svg': 'https://mainfacts.com/media/images/coats_of_arms/dk.svg'}\n",
      "startOfWeek monday\n",
      "capitalInfo {'latlng': [55.67, 12.58]}\n",
      "postalCode {'format': '####', 'regex': '^(\\\\d{4})$'}\n"
     ]
    }
   ],
   "source": [
    "url = \"https://restcountries.com/v3.1/name/\"\n",
    "country = 'Denmark'\n",
    "params= {\"fulltext\": \"true\"}\n",
    "url = url + country\n",
    "data = requests.get(url, params).json()\n",
    "\n",
    "for item in data:\n",
    "    for key, value in item.items():\n",
    "        print(key,  value)"
   ]
  },
  {
   "cell_type": "markdown",
   "metadata": {},
   "source": [
    "Der findes utallige offentligt API på internettet, mange af dem kan man bruge uden at registrere sig eller skaffe sig en nøgle. \n",
    "\n",
    "Useless facts vil give dig en eller anden random oplysning som du ikke har brug for.\n",
    "\n",
    "https://uselessfacts.jsph.pl/api/v2/facts/random\n",
    "\n",
    "Chuck Norris-API'et vil returnere en uendelig strøm af Chuck Norris-jokes.\n",
    "\n",
    "https://api.chucknorris.io/jokes/random\n",
    "\n",
    "Se [denne liste på github](https://github.com/public-apis/public-apis)\n"
   ]
  },
  {
   "cell_type": "code",
   "execution_count": 3,
   "metadata": {},
   "outputs": [
    {
     "ename": "NameError",
     "evalue": "name 'requests' is not defined",
     "output_type": "error",
     "traceback": [
      "\u001b[0;31m---------------------------------------------------------------------------\u001b[0m",
      "\u001b[0;31mNameError\u001b[0m                                 Traceback (most recent call last)",
      "Cell \u001b[0;32mIn[3], line 3\u001b[0m\n\u001b[1;32m      1\u001b[0m url \u001b[38;5;241m=\u001b[39m \u001b[38;5;124m\"\u001b[39m\u001b[38;5;124mhttps://api.frankfurter.app/latest\u001b[39m\u001b[38;5;124m\"\u001b[39m\n\u001b[1;32m      2\u001b[0m params\u001b[38;5;241m=\u001b[39m {\u001b[38;5;124m\"\u001b[39m\u001b[38;5;124mbase\u001b[39m\u001b[38;5;124m\"\u001b[39m: \u001b[38;5;124m\"\u001b[39m\u001b[38;5;124mDKK\u001b[39m\u001b[38;5;124m\"\u001b[39m}\n\u001b[0;32m----> 3\u001b[0m data \u001b[38;5;241m=\u001b[39m \u001b[43mrequests\u001b[49m\u001b[38;5;241m.\u001b[39mget(url, params)\u001b[38;5;241m.\u001b[39mheaders\n\u001b[1;32m      5\u001b[0m rate \u001b[38;5;241m=\u001b[39m \u001b[38;5;28mfloat\u001b[39m(data[\u001b[38;5;124m'\u001b[39m\u001b[38;5;124mrates\u001b[39m\u001b[38;5;124m'\u001b[39m][\u001b[38;5;124m'\u001b[39m\u001b[38;5;124mEUR\u001b[39m\u001b[38;5;124m'\u001b[39m])\n\u001b[1;32m      7\u001b[0m amount \u001b[38;5;241m=\u001b[39m \u001b[38;5;28mfloat\u001b[39m(\u001b[38;5;28minput\u001b[39m(\u001b[38;5;124m\"\u001b[39m\u001b[38;5;124mindtast beløb\u001b[39m\u001b[38;5;124m\"\u001b[39m))\n",
      "\u001b[0;31mNameError\u001b[0m: name 'requests' is not defined"
     ]
    }
   ],
   "source": [
    "url = \"https://api.frankfurter.app/latest\"\n",
    "params= {\"base\": \"DKK\"}\n",
    "data = requests.get(url, params).headers\n",
    "\n",
    "rate = float(data['rates']['EUR'])\n",
    "\n",
    "amount = float(input(\"indtast beløb\"))\n",
    "\n",
    "eur_amount = round(amount * rate, 2)\n",
    "print(f\"{amount} DDK er  {eur_amount} EUR\")"
   ]
  },
  {
   "cell_type": "code",
   "execution_count": 7,
   "metadata": {},
   "outputs": [
    {
     "name": "stdout",
     "output_type": "stream",
     "text": [
      "Chuck Norris commits armed robbery with other people's arms.\n"
     ]
    }
   ],
   "source": [
    "url = \"https://api.chucknorris.io/jokes/random\"\n",
    "data = requests.get(url).json()\n",
    "print(data['value'])\n"
   ]
  },
  {
   "cell_type": "code",
   "execution_count": 9,
   "metadata": {},
   "outputs": [
    {
     "name": "stdout",
     "output_type": "stream",
     "text": [
      "Desværre, du gættede forkert. Det var plat\n"
     ]
    }
   ],
   "source": [
    "import random\n",
    "\n",
    "def plat_eller_krone():\n",
    "  # Generer et tilfældigt tal mellem 0 og 1\n",
    "  tal = random.randint(0, 1)\n",
    "\n",
    "  # 0 repræsenterer plat, 1 repræsenterer krone\n",
    "  if tal == 0:\n",
    "    resultat = \"plat\"\n",
    "  else:\n",
    "    resultat = \"krone\"\n",
    "\n",
    "  # Spørg brugeren om deres gæt\n",
    "  gæt = input(\"Gæt på plat eller krone: \").lower()\n",
    "\n",
    "  # Sammenlign gættet med resultatet\n",
    "  if gæt == resultat:\n",
    "    print(\"Tillykke! Du gættede rigtigt!\")\n",
    "  else:\n",
    "    print(\"Desværre, du gættede forkert. Det var\", resultat)\n",
    "\n",
    "# Kald funktionen for at starte spillet\n",
    "plat_eller_krone()"
   ]
  },
  {
   "cell_type": "markdown",
   "metadata": {},
   "source": []
  },
  {
   "cell_type": "code",
   "execution_count": 33,
   "metadata": {},
   "outputs": [
    {
     "name": "stdout",
     "output_type": "stream",
     "text": [
      "100000000 binært svarer til 256\n"
     ]
    }
   ],
   "source": [
    "def binary_to_decimal(binary_num):\n",
    "  \"\"\"Konverterer et binært tal til decimal.\n",
    "\n",
    "  Args:\n",
    "    binary_num: Det binære tal som en streng.\n",
    "\n",
    "  Returns:\n",
    "    Det tilsvarende decimaltal.\n",
    "  \"\"\"\n",
    "\n",
    "  decimal_num = 0\n",
    "  for i in range(len(binary_num)):\n",
    "    digit = int(binary_num[i])\n",
    "    decimal_num += digit * 2**(len(binary_num) - i - 1)\n",
    "  return decimal_num\n",
    "\n",
    "binary = input('indtast binært tal:')\n",
    "i = binary_to_decimal(binary)\n",
    "print(f\"{binary} binært svarer til {i}\")"
   ]
  },
  {
   "cell_type": "code",
   "execution_count": null,
   "metadata": {},
   "outputs": [],
   "source": [
    "def get_user_input():\n"
   ]
  }
 ],
 "metadata": {
  "kernelspec": {
   "display_name": "Python 3",
   "language": "python",
   "name": "python3"
  },
  "language_info": {
   "codemirror_mode": {
    "name": "ipython",
    "version": 3
   },
   "file_extension": ".py",
   "mimetype": "text/x-python",
   "name": "python",
   "nbconvert_exporter": "python",
   "pygments_lexer": "ipython3",
   "version": "3.12.5"
  }
 },
 "nbformat": 4,
 "nbformat_minor": 2
}
