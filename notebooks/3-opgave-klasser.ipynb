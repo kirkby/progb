{
 "cells": [
  {
   "cell_type": "markdown",
   "metadata": {},
   "source": [
    "# Opgave: klasser i Python\n",
    "\n",
    "## Indledning\n",
    "**Nedenfor er defineret tre klasser:**\n",
    "- Pet (superklasse)\n",
    "- Dog (subklasse)\n",
    "- Cat (subklasse)\n",
    "\n",
    "Klassen _Pet_ har to attributter:  \n",
    "- name\n",
    "- age\n",
    "som sættes i construktoren og metoderne\n",
    "- get_age()\n",
    "- speak()\n",
    "\n",
    "Klassen _Dog_ har yderligere attributterne _breed_ og _dog_type_.\n",
    "\n",
    "Kør koden."
   ]
  },
  {
   "cell_type": "code",
   "execution_count": 16,
   "metadata": {},
   "outputs": [
    {
     "name": "stdout",
     "output_type": "stream",
     "text": [
      "Fido er 2 år gammel\n",
      "Fido siger vuf!\n",
      "Plet er 3 år gammel\n",
      "Plet siger ikke noget for den har ingen stemme\n"
     ]
    }
   ],
   "source": [
    "class Pet:\n",
    "    def __init__(self, name, age):\n",
    "        self.name = name\n",
    "        self.age = age\n",
    "\n",
    "    def speak(self):\n",
    "        print(f\"{self.name} siger ikke noget for den har ingen stemme\")\n",
    "\n",
    "    def get_age(self):\n",
    "        print(f\"{self.name} er {self.age} år gammel\")\n",
    "\n",
    "class Dog(Pet):\n",
    "    sound = \"vuf\"\n",
    "    def __init__(self, name, age, breed, dog_type):\n",
    "        self.breed = breed\n",
    "        self.dog_type = dog_type\n",
    "        super().__init__(name, age)\n",
    "    \n",
    "    def speak(self):\n",
    "        print(f\"{self.name} siger {self.sound}!\")\n",
    "\n",
    "class Cat(Pet):\n",
    "    def __init__(self, name, age):\n",
    "        super().__init__(name, age)\n",
    "\n",
    "# Vi tester vores klasser\n",
    "fido = Dog(\"Fido\", 2, \"Golden Retriever\", 'familiehund')\n",
    "fido.get_age()\n",
    "fido.speak()\n",
    "plet = Cat(\"Plet\", 3)\n",
    "plet.get_age()\n",
    "plet.speak()"
   ]
  },
  {
   "cell_type": "markdown",
   "metadata": {},
   "source": [
    "## Opgave 1\n",
    "Katten siger ikke noget når man kalder `speak()`.  \n",
    "Definer klassen Cat så katten også kan sige noget (kig på klassen Dog).  \n",
    "\n",
    "**Din kode her &darr;**"
   ]
  },
  {
   "cell_type": "code",
   "execution_count": null,
   "metadata": {},
   "outputs": [],
   "source": [
    "# klassen Cat med en metode speak, som printer \"Miau\" til skærmen"
   ]
  },
  {
   "cell_type": "markdown",
   "metadata": {},
   "source": [
    "## Opgave 2\n",
    "Giv katten en farve-attribut som sættes i constructoren. Test at det virker.\n",
    "\n",
    "**Din kode her &darr;**"
   ]
  },
  {
   "cell_type": "code",
   "execution_count": null,
   "metadata": {},
   "outputs": [],
   "source": [
    "# klassen Cat med attributten color, som er en string"
   ]
  },
  {
   "cell_type": "markdown",
   "metadata": {},
   "source": [
    "## Opgave 3\n",
    "Lav en metode _describe()_ som beskriver en kat med navn, lyd og farve.  \n",
    "Eksempel: \"Katten Plet er gul og siger mjau.\"\n",
    "\n",
    "**Din kode her &darr;**"
   ]
  },
  {
   "cell_type": "code",
   "execution_count": null,
   "metadata": {},
   "outputs": [],
   "source": [
    "# klassen Cat med metoden describe() som printer \"Katten [name] er [color] og siger [sound]\" til skærmen"
   ]
  },
  {
   "cell_type": "markdown",
   "metadata": {},
   "source": [
    "## Opgave 4\n",
    "Tilføj et tredje kæledyr (definer en klasse)) med nogle attributter og metoder.\n",
    "Klassen skal selvfølgelig nedarve fra _Pet_.\n",
    "\n",
    "**Din kode her &darr;**"
   ]
  },
  {
   "cell_type": "code",
   "execution_count": null,
   "metadata": {},
   "outputs": [],
   "source": [
    "# Klassen med dit nye kældedyr herunder"
   ]
  }
 ],
 "metadata": {
  "kernelspec": {
   "display_name": "Python 3",
   "language": "python",
   "name": "python3"
  },
  "language_info": {
   "codemirror_mode": {
    "name": "ipython",
    "version": 3
   },
   "file_extension": ".py",
   "mimetype": "text/x-python",
   "name": "python",
   "nbconvert_exporter": "python",
   "pygments_lexer": "ipython3",
   "version": "3.12.5"
  }
 },
 "nbformat": 4,
 "nbformat_minor": 2
}
