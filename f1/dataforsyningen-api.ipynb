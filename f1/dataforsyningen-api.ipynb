{
 "cells": [
  {
   "cell_type": "markdown",
   "metadata": {},
   "source": [
    "Sådan slår vi adresser op hos Dataforsyningens API. \n",
    "Hvor mange steder hedder Slotshaven?"
   ]
  },
  {
   "cell_type": "code",
   "execution_count": 14,
   "metadata": {},
   "outputs": [
    {
     "name": "stdout",
     "output_type": "stream",
     "text": [
      "id 0a3f5083-2a2f-32b8-e044-0003ba298018\n",
      "status 1\n",
      "darstatus 3\n",
      "oprettet 2000-02-05T21:55:55.000\n",
      "ændret 2018-07-04T18:00:00.000\n",
      "vejkode 0533\n",
      "vejnavn Hasselvænget\n",
      "adresseringsvejnavn Hasselvænget\n",
      "husnr 24\n",
      "supplerendebynavn None\n",
      "postnr 4300\n",
      "postnrnavn Holbæk\n",
      "stormodtagerpostnr None\n",
      "stormodtagerpostnrnavn None\n",
      "kommunekode 0316\n",
      "kommunenavn Holbæk\n",
      "ejerlavkode 2000854\n",
      "ejerlavnavn Ladegården, Holbæk Jorder\n",
      "matrikelnr 13a\n",
      "esrejendomsnr 0\n",
      "etrs89koordinat_øst 670409.71\n",
      "etrs89koordinat_nord 6177061.48\n",
      "wgs84koordinat_bredde 55.70931534\n",
      "wgs84koordinat_længde 11.71238331\n",
      "nøjagtighed A\n",
      "kilde 5\n",
      "tekniskstandard TK\n",
      "tekstretning 259.38\n",
      "adressepunktændringsdato 2013-07-27T23:59:00.000\n",
      "ddkn_m100 100m_61770_6704\n",
      "ddkn_km1 1km_6177_670\n",
      "ddkn_km10 10km_617_67\n",
      "regionskode 1085\n",
      "regionsnavn Region Sjælland\n",
      "jordstykke_ejerlavkode 2000854\n",
      "jordstykke_matrikelnr 13a\n",
      "jordstykke_esrejendomsnr 0\n",
      "jordstykke_ejerlavnavn Ladegården, Holbæk Jorder\n",
      "højde 21.3\n",
      "adgangspunktid 0a3f5083-2a2f-32b8-e044-0003ba298018\n",
      "vejpunkt_id 1431bbc7-af45-11e7-847e-066cff24d637\n",
      "vejpunkt_kilde Ekstern\n",
      "vejpunkt_nøjagtighed B\n",
      "vejpunkt_tekniskstandard V0\n",
      "vejpunkt_x 11.71252714\n",
      "vejpunkt_y 55.70937699\n",
      "sognekode 7275\n",
      "sognenavn Tveje Merløse\n",
      "politikredskode 1467\n",
      "politikredsnavn Midt- og Vestsjællands Politi\n",
      "retskredskode 1122\n",
      "retskredsnavn Retten i Holbæk\n",
      "opstillingskredskode 0037\n",
      "opstillingskredsnavn Holbæk\n",
      "menighedsrådsafstemningsområdenummer 3\n",
      "menighedsrådsafstemningsområdenavn Tveje Merløse\n",
      "zone Udfaset\n",
      "afstemningsområdenummer 3\n",
      "afstemningsområdenavn Holbæk Midt\n",
      "brofast True\n",
      "supplerendebynavn_dagi_id None\n",
      "navngivenvej_id 8f5a08dc-2151-49cf-9e0d-8f9ead3e4f30\n",
      "vejpunkt_ændret 2018-05-03T14:08:02.125\n",
      "ikrafttrædelse 2000-02-05T21:55:55.000\n",
      "nedlagt None\n",
      "storkredsnummer 5\n",
      "storkredsnavn Sjælland\n",
      "valglandsdelsbogstav B\n",
      "valglandsdelsnavn Sjælland-Syddanmark\n",
      "landsdelsnuts3 DK022\n",
      "landsdelsnavn Vest- og Sydsjælland\n",
      "betegnelse Hasselvænget 24, 4300 Holbæk\n",
      "kvh 03160533__24\n"
     ]
    }
   ],
   "source": [
    "import requests\n",
    "\n",
    "url = \"https://api.dataforsyningen.dk/adgangsadresser\"\n",
    "params= {\"vejnavn\": \"Hasselvænget\", \"husnr\": \"24\", \"postnr\": \"4300\", \"struktur\": \"flad\"}\n",
    "data = requests.get(url, params).json()\n",
    "for item in data:\n",
    "    for key, value in item.items():\n",
    "        print(key,  value) \n",
    "        # if (key == 'betegnelse'):\n",
    "            # print(\"Adresse: \",  value) \n"
   ]
  },
  {
   "cell_type": "markdown",
   "metadata": {},
   "source": [
    "Vi kan også søge mere specifikt på Holbæk."
   ]
  },
  {
   "cell_type": "code",
   "execution_count": 6,
   "metadata": {},
   "outputs": [
    {
     "name": "stdout",
     "output_type": "stream",
     "text": [
      "id 0a3f5083-4731-32b8-e044-0003ba298018\n",
      "status 1\n",
      "darstatus 3\n",
      "vejkode 1426\n",
      "vejnavn Slotshaven\n",
      "adresseringsvejnavn Slotshaven\n",
      "husnr 1\n",
      "supplerendebynavn None\n",
      "postnr 4300\n",
      "postnrnavn Holbæk\n",
      "stormodtagerpostnr None\n",
      "stormodtagerpostnrnavn None\n",
      "kommunekode 0316\n",
      "x 11.70258402\n",
      "y 55.71306338\n",
      "href https://api.dataforsyningen.dk/adgangsadresser/0a3f5083-4731-32b8-e044-0003ba298018\n",
      "betegnelse Slotshaven 1, 4300 Holbæk\n"
     ]
    }
   ],
   "source": [
    "import requests\n",
    "\n",
    "url = \"https://api.dataforsyningen.dk/adgangsadresser\"\n",
    "params= {\"vejnavn\": \"Slotshaven\", \"husnr\": \"1\", \"postnr\": \"4300\", \"struktur\": \"mini\"}\n",
    "\n",
    "item = requests.get(url, params).json()[0]\n",
    "for key, value in item.items():\n",
    "    print(key, value) \n",
    "\n"
   ]
  }
 ],
 "metadata": {
  "kernelspec": {
   "display_name": "Python 3",
   "language": "python",
   "name": "python3"
  },
  "language_info": {
   "codemirror_mode": {
    "name": "ipython",
    "version": 3
   },
   "file_extension": ".py",
   "mimetype": "text/x-python",
   "name": "python",
   "nbconvert_exporter": "python",
   "pygments_lexer": "ipython3",
   "version": "3.12.5"
  }
 },
 "nbformat": 4,
 "nbformat_minor": 2
}
