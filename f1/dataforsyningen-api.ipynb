{
 "cells": [
  {
   "cell_type": "markdown",
   "metadata": {},
   "source": [
    "Sådan slår vi adresser op hos Dataforsyningens API. \n",
    "Hvor mange steder hedder Slotshaven?"
   ]
  },
  {
   "cell_type": "code",
   "execution_count": 5,
   "metadata": {},
   "outputs": [
    {
     "name": "stdout",
     "output_type": "stream",
     "text": [
      "Adresse:  Slotshaven 1, 4200 Slagelse\n",
      "Adresse:  Slotshaven 1, 4300 Holbæk\n"
     ]
    }
   ],
   "source": [
    "import requests\n",
    "\n",
    "url = \"https://api.dataforsyningen.dk/adgangsadresser\"\n",
    "params= {\"vejnavn\": \"Slotshaven\", \"husnr\": \"1\", \"struktur\": \"mini\"}\n",
    "data = requests.get(url, params).json()\n",
    "for item in data:\n",
    "    for key, value in item.items():\n",
    "        if (key == 'betegnelse'):\n",
    "            print(\"Adresse: \",  value) \n"
   ]
  },
  {
   "cell_type": "markdown",
   "metadata": {},
   "source": [
    "Vi kan også søge mere specifikt på Holbæk."
   ]
  },
  {
   "cell_type": "code",
   "execution_count": 6,
   "metadata": {},
   "outputs": [
    {
     "name": "stdout",
     "output_type": "stream",
     "text": [
      "id 0a3f5083-4731-32b8-e044-0003ba298018\n",
      "status 1\n",
      "darstatus 3\n",
      "vejkode 1426\n",
      "vejnavn Slotshaven\n",
      "adresseringsvejnavn Slotshaven\n",
      "husnr 1\n",
      "supplerendebynavn None\n",
      "postnr 4300\n",
      "postnrnavn Holbæk\n",
      "stormodtagerpostnr None\n",
      "stormodtagerpostnrnavn None\n",
      "kommunekode 0316\n",
      "x 11.70258402\n",
      "y 55.71306338\n",
      "href https://api.dataforsyningen.dk/adgangsadresser/0a3f5083-4731-32b8-e044-0003ba298018\n",
      "betegnelse Slotshaven 1, 4300 Holbæk\n"
     ]
    }
   ],
   "source": [
    "import requests\n",
    "\n",
    "url = \"https://api.dataforsyningen.dk/adgangsadresser\"\n",
    "params= {\"vejnavn\": \"Slotshaven\", \"husnr\": \"1\", \"postnr\": \"4300\", \"struktur\": \"mini\"}\n",
    "\n",
    "item = requests.get(url, params).json()[0]\n",
    "for key, value in item.items():\n",
    "    print(key, value) \n",
    "\n"
   ]
  }
 ],
 "metadata": {
  "kernelspec": {
   "display_name": "Python 3",
   "language": "python",
   "name": "python3"
  },
  "language_info": {
   "codemirror_mode": {
    "name": "ipython",
    "version": 3
   },
   "file_extension": ".py",
   "mimetype": "text/x-python",
   "name": "python",
   "nbconvert_exporter": "python",
   "pygments_lexer": "ipython3",
   "version": "3.12.5"
  }
 },
 "nbformat": 4,
 "nbformat_minor": 2
}
