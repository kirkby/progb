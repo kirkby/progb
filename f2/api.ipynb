{
 "cells": [
  {
   "cell_type": "markdown",
   "metadata": {},
   "source": [
    "## Introduktion til API'er\n",
    "\n",
    "En webside er en slags API som returnerer HTML. \n",
    "\n",
    "Check fx \"View Source\" på https://slotshaven.dk\n",
    "\n",
    "Men HTML er et formateringssprog - så hvis man kun er interesseret i _data_, er der ingen grund til at bruge et formateringssprog som HTML. \n",
    "\n",
    "\n",
    "API'er returnerer ofte json eller xml som er strukturerede dataformater.  \n",
    "\n",
    "Json minder en smule om et python dictionary."
   ]
  },
  {
   "cell_type": "markdown",
   "metadata": {},
   "source": [
    "``` json\n",
    "{\n",
    "    \"skole\": {\n",
    "        \"navn\": \"Slotshaven Gymnasium\",\n",
    "        \"by\": \"Holbæk\",\n",
    "        \"retninger\": [\n",
    "            {\n",
    "                \"navn\": \"HTX\",\n",
    "                \"beskrivelse\": \"Teknisk Gymnasium\",\n",
    "                \"profilfag\": [\"Teknologi\", \"Matematik\", \"Fysik\", \"Kemi\"]\n",
    "            },\n",
    "            {\n",
    "                \"navn\": \"HHX\",\n",
    "                \"beskrivelse\": \"Handelsgymnasium\",\n",
    "                \"profilfag\": [\"Afsætning\", \"Virksomhedsøkonomi\", \"International Økonomi\"]\n",
    "            }\n",
    "        ]\n",
    "    }\n",
    "}\n",
    "```"
   ]
  },
  {
   "cell_type": "markdown",
   "metadata": {},
   "source": [
    "En API er en slags grænseflade mellem et system og dets omverden. Et API _eksponerer_ operationer som kan opdatere det bagvedliggende system. \n",
    "\n",
    "Typiske operationer er Læs, Opret, Slet, Opdater. De er så almindelige så man på engelsk har givet dem navnet CRUD, for\n",
    " - create\n",
    " - read\n",
    " - update\n",
    " - delete"
   ]
  },
  {
   "cell_type": "markdown",
   "metadata": {},
   "source": [
    "Lad os prøve at lave en forspørgsel. \n",
    "\n",
    "Vi begynder med at importere et http-modul i python."
   ]
  },
  {
   "cell_type": "code",
   "execution_count": 12,
   "metadata": {},
   "outputs": [],
   "source": [
    "import requests"
   ]
  },
  {
   "cell_type": "markdown",
   "metadata": {},
   "source": [
    "Vi prøver fx dette offentlige API med data om alverdens lande, REST Countries.\n",
    "\n",
    "Så vi laver et request mod https://restcountries.com/"
   ]
  },
  {
   "cell_type": "code",
   "execution_count": 15,
   "metadata": {},
   "outputs": [
    {
     "name": "stdout",
     "output_type": "stream",
     "text": [
      "name {'common': 'Azerbaijan', 'official': 'Republic of Azerbaijan', 'nativeName': {'aze': {'official': 'Azərbaycan Respublikası', 'common': 'Azərbaycan'}}}\n",
      "tld ['.az']\n",
      "cca2 AZ\n",
      "ccn3 031\n",
      "cca3 AZE\n",
      "cioc AZE\n",
      "independent True\n",
      "status officially-assigned\n",
      "unMember True\n",
      "currencies {'AZN': {'name': 'Azerbaijani manat', 'symbol': '₼'}}\n",
      "idd {'root': '+9', 'suffixes': ['94']}\n",
      "capital ['Baku']\n",
      "altSpellings ['AZ', 'Republic of Azerbaijan', 'Azərbaycan Respublikası']\n",
      "region Asia\n",
      "subregion Western Asia\n",
      "languages {'aze': 'Azerbaijani'}\n",
      "translations {'ara': {'official': 'جمهورية أذربيجان', 'common': 'أذربيجان'}, 'bre': {'official': 'Republik Azerbaidjan', 'common': 'Azerbaidjan'}, 'ces': {'official': 'Ázerbájdžánská republika', 'common': 'Ázerbájdžán'}, 'cym': {'official': 'Gweriniaeth Aserbaijan', 'common': 'Aserbaijan'}, 'deu': {'official': 'Republik Aserbaidschan', 'common': 'Aserbaidschan'}, 'est': {'official': 'Aserbaidžaani Vabariik', 'common': 'Aserbaidžaan'}, 'fin': {'official': 'Azerbaidzanin tasavalta', 'common': 'Azerbaidzan'}, 'fra': {'official': \"République d'Azerbaïdjan\", 'common': 'Azerbaïdjan'}, 'hrv': {'official': 'Republika Azerbajdžan', 'common': 'Azerbajdžan'}, 'hun': {'official': 'Azerbajdzsán', 'common': 'Azerbajdzsán'}, 'ita': {'official': \"Repubblica dell'Azerbaigian\", 'common': 'Azerbaijan'}, 'jpn': {'official': 'アゼルバイジャン共和国', 'common': 'アゼルバイジャン'}, 'kor': {'official': '아제르바이잔 공화국', 'common': '아제르바이잔'}, 'nld': {'official': 'Republiek Azerbeidzjan', 'common': 'Azerbeidzjan'}, 'per': {'official': 'جمهوری آذربایجان', 'common': 'جمهوری آذربایجان'}, 'pol': {'official': 'Republika Azerbejdżanu', 'common': 'Azerbejdżan'}, 'por': {'official': 'República do Azerbaijão', 'common': 'Azerbeijão'}, 'rus': {'official': 'Азербайджанская Республика', 'common': 'Азербайджан'}, 'slk': {'official': 'Azerbajǆanská republika', 'common': 'AzerbajǇan'}, 'spa': {'official': 'República de Azerbaiyán', 'common': 'Azerbaiyán'}, 'srp': {'official': 'Азербејџанска Република', 'common': 'Азербејџан'}, 'swe': {'official': 'Republiken Azerbajdzjan', 'common': 'Azerbajdzjan'}, 'tur': {'official': 'Azerbaycan Cumhuriyeti', 'common': 'Azerbaycan'}, 'urd': {'official': 'جمہوریہ آذربائیجان', 'common': 'آذربائیجان'}, 'zho': {'official': '阿塞拜疆共和国', 'common': '阿塞拜疆'}}\n",
      "latlng [40.5, 47.5]\n",
      "landlocked True\n",
      "borders ['ARM', 'GEO', 'IRN', 'RUS', 'TUR']\n",
      "area 86600.0\n",
      "demonyms {'eng': {'f': 'Azerbaijani', 'm': 'Azerbaijani'}, 'fra': {'f': 'Azerbaïdjanaise', 'm': 'Azerbaïdjanais'}}\n",
      "flag 🇦🇿\n",
      "maps {'googleMaps': 'https://goo.gl/maps/az3Zz7ar2aoB9AUc6', 'openStreetMaps': 'https://www.openstreetmap.org/relation/364110'}\n",
      "population 10110116\n",
      "gini {'2005': 26.6}\n",
      "fifa AZE\n",
      "car {'signs': ['AZ'], 'side': 'right'}\n",
      "timezones ['UTC+04:00']\n",
      "continents ['Europe', 'Asia']\n",
      "flags {'png': 'https://flagcdn.com/w320/az.png', 'svg': 'https://flagcdn.com/az.svg', 'alt': 'The flag of Azerbaijan features three equal horizontal bands of blue, red and green, with a white fly-side facing crescent and eight-pointed star centered in the red band.'}\n",
      "coatOfArms {'png': 'https://mainfacts.com/media/images/coats_of_arms/az.png', 'svg': 'https://mainfacts.com/media/images/coats_of_arms/az.svg'}\n",
      "startOfWeek monday\n",
      "capitalInfo {'latlng': [40.38, 49.87]}\n",
      "postalCode {'format': 'AZ ####', 'regex': '^(?:AZ)*(\\\\d{4})$'}\n"
     ]
    }
   ],
   "source": [
    "url = \"https://restcountries.com/v3.1/name/\"\n",
    "country = 'Azerbaijan'\n",
    "params= {\"fulltext\": \"true\"}\n",
    "url = url + country\n",
    "data = requests.get(url, params).json()\n",
    "\n",
    "for item in data:\n",
    "    for key, value in item.items():\n",
    "        print(key,  value)"
   ]
  },
  {
   "cell_type": "markdown",
   "metadata": {},
   "source": [
    "Der findes utallige offentligt API på internettet, mange af dem kan man bruge uden at registrere sig eller skaffe sig en nøgle. \n",
    "\n",
    "Useless facts vil give dig en eller anden random oplysning som du ikke har brug for.\n",
    "\n",
    "https://uselessfacts.jsph.pl/api/v2/facts/random\n",
    "\n",
    "Chuck Norris-API'et vil returnere en uendelig strøm af Chuck Norris-jokes.\n",
    "\n",
    "https://api.chucknorris.io/jokes/random\n",
    "\n",
    "Se [denne liste på github](https://github.com/public-apis/public-apis)\n"
   ]
  }
 ],
 "metadata": {
  "kernelspec": {
   "display_name": "Python 3",
   "language": "python",
   "name": "python3"
  },
  "language_info": {
   "codemirror_mode": {
    "name": "ipython",
    "version": 3
   },
   "file_extension": ".py",
   "mimetype": "text/x-python",
   "name": "python",
   "nbconvert_exporter": "python",
   "pygments_lexer": "ipython3",
   "version": "3.12.5"
  }
 },
 "nbformat": 4,
 "nbformat_minor": 2
}
