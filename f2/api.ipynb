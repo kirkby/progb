{
 "cells": [
  {
   "cell_type": "markdown",
   "metadata": {},
   "source": [
    "## Introduktion til API'er\n",
    "\n",
    "En webside er en slags API som returnerer HTML. \n",
    "\n",
    "Check fx \"View Source\" på https://slotshaven.dk\n",
    "\n",
    "Men HTML er et formateringssprog - så hvis man kun er interesseret i _data_, er der ingen grund til at bruge et formateringssprog som HTML. \n",
    "\n",
    "\n",
    "API'er returnerer ofte json eller xml som er strukturerede dataformater.  \n",
    "\n",
    "Json minder en smule om et python dictionary."
   ]
  },
  {
   "cell_type": "markdown",
   "metadata": {},
   "source": [
    "``` json\n",
    "{\n",
    "    \"skole\": {\n",
    "        \"navn\": \"Slotshaven Gymnasium\",\n",
    "        \"by\": \"Holbæk\",\n",
    "        \"retninger\": [\n",
    "            {\n",
    "                \"navn\": \"HTX\",\n",
    "                \"beskrivelse\": \"Teknisk Gymnasium\",\n",
    "                \"profilfag\": [\"Teknologi\", \"Matematik\", \"Fysik\", \"Kemi\"]\n",
    "            },\n",
    "            {\n",
    "                \"navn\": \"HHX\",\n",
    "                \"beskrivelse\": \"Handelsgymnasium\",\n",
    "                \"profilfag\": [\"Afsætning\", \"Virksomhedsøkonomi\", \"International Økonomi\"]\n",
    "            }\n",
    "        ]\n",
    "    }\n",
    "}\n",
    "```"
   ]
  },
  {
   "cell_type": "markdown",
   "metadata": {},
   "source": [
    "En API er en slags grænseflade mellem et system og dets omverden. Et API _eksponerer_ operationer som kan opdatere det bagvedliggende system. \n",
    "\n",
    "Typiske operationer er Læs, Opret, Slet, Opdater. De er så almindelige så man på engelsk har givet dem navnet CRUD, for\n",
    " - create\n",
    " - read\n",
    " - update\n",
    " - delete"
   ]
  },
  {
   "cell_type": "markdown",
   "metadata": {},
   "source": [
    "Lad os prøve at lave en forspørgsel. \n",
    "\n",
    "Vi begynder med at importere et http-modul i python."
   ]
  },
  {
   "cell_type": "code",
   "execution_count": 2,
   "metadata": {},
   "outputs": [],
   "source": [
    "import requests"
   ]
  },
  {
   "cell_type": "markdown",
   "metadata": {},
   "source": [
    "Vi prøver fx dette offentlige API med data om alverdens lande, REST Countries.\n",
    "\n",
    "Så vi laver et request mod https://restcountries.com/"
   ]
  },
  {
   "cell_type": "code",
   "execution_count": null,
   "metadata": {},
   "outputs": [],
   "source": [
    "url = \"https://restcountries.com/v3.1/name/\"\n",
    "country = 'Azerbaijan'\n",
    "params= {\"fulltext\": \"true\"}\n",
    "url = url + country\n",
    "data = requests.get(url, params).json()\n",
    "\n",
    "for item in data:\n",
    "    for key, value in item.items():\n",
    "        print(key,  value)"
   ]
  },
  {
   "cell_type": "markdown",
   "metadata": {},
   "source": [
    "Der findes utallige offentligt API på internettet, mange af dem kan man bruge uden at registrere sig eller skaffe sig en nøgle. \n",
    "\n",
    "Useless facts vil give dig en eller anden random oplysning som du ikke har brug for.\n",
    "\n",
    "https://uselessfacts.jsph.pl/api/v2/facts/random\n",
    "\n",
    "Chuck Norris-API'et vil returnere en uendelig strøm af Chuck Norris-jokes.\n",
    "\n",
    "https://api.chucknorris.io/jokes/random\n",
    "\n",
    "Se [denne liste på github](https://github.com/public-apis/public-apis)\n"
   ]
  },
  {
   "cell_type": "code",
   "execution_count": null,
   "metadata": {},
   "outputs": [],
   "source": []
  },
  {
   "cell_type": "code",
   "execution_count": null,
   "metadata": {},
   "outputs": [],
   "source": [
    "url = \"https://api.frankfurter.app/latest\"\n",
    "params= {\"base\": \"DKK\"}\n",
    "data = requests.get(url, params).json()\n",
    "\n",
    "\n",
    "rate = float(data['rates']['EUR'])\n",
    "\n",
    "amount = float(input(\"indtast beløb\"))\n",
    "\n",
    "eur_amount = round(amount * rate, 2)\n",
    "print(f\"{amount} DDK er  {eur_amount} EUR\")"
   ]
  }
 ],
 "metadata": {
  "kernelspec": {
   "display_name": "Python 3",
   "language": "python",
   "name": "python3"
  },
  "language_info": {
   "codemirror_mode": {
    "name": "ipython",
    "version": 3
   },
   "file_extension": ".py",
   "mimetype": "text/x-python",
   "name": "python",
   "nbconvert_exporter": "python",
   "pygments_lexer": "ipython3",
   "version": "3.12.5"
  }
 },
 "nbformat": 4,
 "nbformat_minor": 2
}
