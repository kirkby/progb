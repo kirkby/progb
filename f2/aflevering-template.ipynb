{
 "cells": [
  {
   "cell_type": "markdown",
   "metadata": {},
   "source": [
    "# Aflevering 8/11\n",
    "\n",
    "Læs denne vejledning grundigt.\n",
    "\n",
    "## Opgave\n",
    "På det seneste har vi arbejdet med forskellige API'er som kan levere forskellig data.\n",
    "Alle har fundet et API efter eget valg.\n",
    "Vi har lavet et lille program som kan kommunikere med dette API og udskrive noget data.\n",
    "Du skal aflevere nu en færdig og fungerende udgave af det python-program som du har lavet.\n",
    "Programmet skal indeholde mindst tre funktioner - se krav nedenfor.\n",
    "\n",
    "Krav:\n",
    "- programmet skal printe en velkomsthilsen når det starter som forklarer hvordan man bruger det.\n",
    "Eksempel:\n",
    "```\n",
    "Velkommen til Cat Api App.\n",
    "```\n",
    "- brugeren skal kunne indtaste en søgeord eller på en anden måde vælge det data som han vil se. Eksempel:\n",
    "```\n",
    "Indtast 1: gul 2: rød og 3: grøn\n",
    "```\n",
    "\n",
    "- programmets input-funktion skal kunne håndtere at brugeren indtaster ugyldigt data, fx hvis hun indtaster en streng når programmet skal bruge et heltal. Eksempel:\n",
    "```\n",
    "Ugyldigt input. Indtast venligst et heltal. Du indtastede \"kat\".\n",
    "```\n",
    "\n",
    "- Alle programmets funktioner skal dokumenteres med en _doctring_ som fortæller hvordan funktioner virker og hvad den gør. Eksempel:\n",
    "\n",
    "```\n",
    "def my_print_function(result):\n",
    "    \"\"\" Pretty prints the search result. \"\"\"\n",
    "```\n",
    "\n",
    "- programmet skal virke hvis man kører \"Run All\" på alle kodeblokke - dvs. koden skal komme i den rigtige rækkefølge (funktioner før de kaldes osv.).\n",
    "\n",
    "## Afleveringen\n",
    "Denne notebook er en skabelon til din aflevering. Du skal altså skrive din kode og dokumentation i denne fil.\n",
    "\n",
    "Begynd med at give din notebook et andet navn der svarer til dit api.\n",
    "Eksempel: `cat-api.ipynb`\n",
    "\n",
    "Husk at fjerne al den tekst som ikke skal bruges i din aflevering. Hele denne vejledning skal fx slettes inden du afleverer. \n",
    "\n",
    "Her nedenfor begynder din kode."
   ]
  },
  {
   "cell_type": "markdown",
   "metadata": {},
   "source": [
    "## Import\n",
    "Den næste blok indeholder `import`-statements.  \n",
    "Beskriv de moduler som du bruger."
   ]
  },
  {
   "cell_type": "code",
   "execution_count": null,
   "metadata": {},
   "outputs": [],
   "source": [
    "# import"
   ]
  },
  {
   "cell_type": "markdown",
   "metadata": {},
   "source": [
    "## Bruger-input\n",
    "Den næste kodeblok indeholder en funktion der indlæser brugerens søgeord.\n",
    "\n",
    "Funktionen skal returnere den rigtige datatype.\n",
    "Det vil sige at hvis man skal bruge et heltal, så skal man konvertere brugerens input til et helttal før man returnerer værdien."
   ]
  },
  {
   "cell_type": "code",
   "execution_count": null,
   "metadata": {},
   "outputs": [],
   "source": [
    "# def read_user_input():"
   ]
  },
  {
   "cell_type": "markdown",
   "metadata": {},
   "source": [
    "## Print\n",
    "\n",
    "Denne kodeblok indeholder en funktion der printer søgeresulaterne eller hvad du nu har fået tilbage fra dit api.\n",
    "\n",
    "Resultatet skal udskrives på en brugervenlig og forståelig måde.  \n",
    "\n",
    "Husk at dokumentere funktionen med en _docstring_.\n"
   ]
  },
  {
   "cell_type": "code",
   "execution_count": null,
   "metadata": {},
   "outputs": [],
   "source": [
    "# def print(result):"
   ]
  },
  {
   "cell_type": "markdown",
   "metadata": {},
   "source": [
    "## Request\n",
    "Denne kodeblok indeholder en funktion der foretager selve requestet til API't.\n",
    "\n",
    "Husk at dokumentere funktionen med en _docstring_."
   ]
  },
  {
   "cell_type": "code",
   "execution_count": null,
   "metadata": {},
   "outputs": [],
   "source": [
    "# def get_data(search_term):"
   ]
  },
  {
   "cell_type": "markdown",
   "metadata": {},
   "source": [
    "## Main\n",
    "\n",
    "Denne kodeblok indeholder programmets main loop."
   ]
  },
  {
   "cell_type": "code",
   "execution_count": null,
   "metadata": {},
   "outputs": [],
   "source": [
    "# her begynder programmet"
   ]
  }
 ],
 "metadata": {
  "language_info": {
   "name": "python"
  }
 },
 "nbformat": 4,
 "nbformat_minor": 2
}
