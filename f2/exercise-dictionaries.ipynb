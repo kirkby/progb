{
 "cells": [
  {
   "cell_type": "markdown",
   "metadata": {},
   "source": [
    "# Dictionaries\n",
    "Den mest interessante listetype er _dictionaries_. På dansk kunne man kalde den _ordbog_ eller _opslagsliste_.\n",
    "\n",
    "Et dictionary har en _key-value_ struktur. \n",
    "\n",
    "Key er _nøglen_ - det ord som man slår op.\n",
    "Value er _værdien_ - de data som der er knyttet til nøglen. \n",
    "\n"
   ]
  },
  {
   "cell_type": "code",
   "execution_count": 9,
   "metadata": {},
   "outputs": [],
   "source": [
    "lande = {'danmark': 'københavn', 'tyskland': 'berlin'}"
   ]
  },
  {
   "cell_type": "markdown",
   "metadata": {},
   "source": [
    "Man definerer altså et dictionary med `{}` - krølleparenteser eller tuborg-klammer. \n",
    "\n",
    "Derimod \"slår op\" man i ordbogen med kantede parenteser, som i dette eksempel:"
   ]
  },
  {
   "cell_type": "code",
   "execution_count": 10,
   "metadata": {},
   "outputs": [
    {
     "name": "stdout",
     "output_type": "stream",
     "text": [
      "københavn\n"
     ]
    }
   ],
   "source": [
    "land = lande['danmark']\n",
    "print(land)"
   ]
  },
  {
   "cell_type": "markdown",
   "metadata": {},
   "source": [
    "I dette eksempel er nøglen _danmark_ og værdien _københavn_.\n",
    "\n",
    "Nøglen kan være enhver enhver datatyope som ikke kan ændre sig. \n",
    "Nøglen kan _ikke_ være en kompleks datatype."
   ]
  },
  {
   "cell_type": "code",
   "execution_count": 19,
   "metadata": {},
   "outputs": [],
   "source": [
    "# Valid dictionary keys\n",
    "my_dict = {\n",
    "    1: \"one\",\n",
    "    \"key\": \"value\",\n",
    "    (1, 2): \"tuple_key\",\n",
    "    True: \"boolean_key\",\n",
    "    None: \"none_key\"\n",
    "}"
   ]
  },
  {
   "cell_type": "markdown",
   "metadata": {},
   "source": [
    "Værdien, derimod,  - kan være **alle datatyper** - også en anden dictionary.\n",
    "Og det bliver først rigtig interessant når vi tilføjer flere data til hver nøgle. \n",
    "Hvis vi for eksempel indlejrer et dictionary i et dictionary:"
   ]
  },
  {
   "cell_type": "code",
   "execution_count": null,
   "metadata": {},
   "outputs": [],
   "source": [
    "lande = {\n",
    "    \"danmark\": {\"hovedstad\": \"København\", \"indbyggere\": 5900000, \"størrelse\": 43094},\n",
    "    \"tyskland\": {\"hovedstad\": \"Berlin\", \"indbyggere\": 83000000, \"størrelse\": 357021},\n",
    "    \"sverige\": {\"hovedstad\": \"Stockholm\", \"indbyggere\": 10300000, \"størrelse\": 449964},\n",
    "}\n",
    "hovedstad = lande['danmark']['hovedstad']"
   ]
  },
  {
   "cell_type": "markdown",
   "metadata": {},
   "source": [
    "## Øvelse\n",
    "\n",
    "Lad os gemme vores data i en fil som vi kalder `geodata.csv`. \n",
    "\n",
    "csv står for comma-separated values.\n",
    "\n",
    "Den har følgende struktur: \n",
    "```\n",
    "land,hovedstad,indbyggere,størrelse\n",
    "Danmark,København,5900000,43094\n",
    "Sverige,Stockholm,10300000,449964\n",
    "USA,Washington D.C.,331000000,9833517\n",
    "Tyskland,Berlin,83000000,357021\n",
    "```\n",
    "\n",
    "Vi opretter en funktion som indlæser denne fil ved hjælp af `csv`-biblioteket i python."
   ]
  },
  {
   "cell_type": "code",
   "execution_count": 1,
   "metadata": {},
   "outputs": [],
   "source": [
    "import csv\n",
    "\n",
    "def load_countries_from_csv(filename):\n",
    "    countries = {}\n",
    "    with open(filename, 'r') as csvfile:\n",
    "        reader = csv.DictReader(csvfile)\n",
    "        for row in reader:\n",
    "            countries[row['land']] = row\n",
    "    return countries\n",
    "\n",
    "# Indlæs data fra en CSV-fil\n",
    "lande = load_countries_from_csv(\"geodata.csv\")"
   ]
  },
  {
   "cell_type": "markdown",
   "metadata": {},
   "source": [
    "Opret din egen notebook som du kalder `dictionary.ipynb`. Opret din egen csv-fil med data om geodata (eller find på dine egne data). \n",
    "Kopier indlæsningsfunktionen ovenfor ind i en kodecelle og indlæs dine data. Test at det ved at udskrive data.\n",
    "\n",
    "\n",
    "### Øvelse 1\n",
    "Lav en funktion der udskriver en liste af lande og hovedstæder. \n",
    "\n",
    "### Øvelse 2\n",
    "Tilføj flere data til filen: valuta, sprog og verdensdel.\n",
    "\n",
    "### Øvelse 3\n",
    "Lav en søgefunktion som giver brugeren mulighed for søge på et land. \n",
    "\n",
    "### Øvelse 4 (avanceret)\n",
    "Lav en funktion som udskriver alle lande der har EUR som valuta. \n",
    "\n"
   ]
  }
 ],
 "metadata": {
  "kernelspec": {
   "display_name": "Python 3",
   "language": "python",
   "name": "python3"
  },
  "language_info": {
   "codemirror_mode": {
    "name": "ipython",
    "version": 3
   },
   "file_extension": ".py",
   "mimetype": "text/x-python",
   "name": "python",
   "nbconvert_exporter": "python",
   "pygments_lexer": "ipython3",
   "version": "3.12.5"
  }
 },
 "nbformat": 4,
 "nbformat_minor": 2
}
